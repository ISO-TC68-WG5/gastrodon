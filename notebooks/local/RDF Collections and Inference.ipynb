{
 "cells": [
  {
   "cell_type": "code",
   "execution_count": 1,
   "metadata": {
    "collapsed": false
   },
   "outputs": [],
   "source": [
    "%load_ext autotime\n",
    "import sys\n",
    "sys.path.append(\"../..\")\n",
    "from gastrodon import LocalEndpoint,QName,ttl,URIRef\n",
    "from rdflib import Graph,RDF,BNode\n",
    "import pandas as pd\n",
    "pd.options.display.width=120\n",
    "pd.options.display.max_colwidth=100"
   ]
  },
  {
   "cell_type": "code",
   "execution_count": 2,
   "metadata": {
    "collapsed": false
   },
   "outputs": [
    {
     "data": {
      "text/plain": [
       "4"
      ]
     },
     "execution_count": 2,
     "metadata": {},
     "output_type": "execute_result"
    },
    {
     "name": "stdout",
     "output_type": "stream",
     "text": [
      "time: 20 ms\n"
     ]
    }
   ],
   "source": [
    "def model(turtle):\n",
    "    g=Graph()\n",
    "    g.parse(data=turtle,format=\"ttl\")\n",
    "    return g\n",
    "\n",
    "sequence=model(r\"\"\"\n",
    "@prefix rdf: <http://www.w3.org/1999/02/22-rdf-syntax-ns#> .\n",
    "[] a rdf:Seq ;\n",
    "    rdf:_1 \"A\" ;\n",
    "    rdf:_2 \"B\" ;\n",
    "    rdf:_3 \"C\" .\n",
    "\"\"\")\n",
    "\n",
    "len(sequence)"
   ]
  },
  {
   "cell_type": "code",
   "execution_count": 3,
   "metadata": {
    "collapsed": false
   },
   "outputs": [
    {
     "data": {
      "text/plain": [
       "(rdflib.term.URIRef('http://www.w3.org/1999/02/22-rdf-syntax-ns#Seq'),\n",
       " rdflib.term.URIRef('http://www.w3.org/1999/02/22-rdf-syntax-ns#type'))"
      ]
     },
     "execution_count": 3,
     "metadata": {},
     "output_type": "execute_result"
    },
    {
     "name": "stdout",
     "output_type": "stream",
     "text": [
      "time: 3 ms\n"
     ]
    }
   ],
   "source": [
    "RDF.Seq,RDF.type"
   ]
  },
  {
   "cell_type": "code",
   "execution_count": 4,
   "metadata": {
    "collapsed": false
   },
   "outputs": [
    {
     "name": "stdout",
     "output_type": "stream",
     "text": [
      "time: 6 ms\n"
     ]
    }
   ],
   "source": [
    "def one(items):\n",
    "    l=list(items)\n",
    "    if len(l)>1:\n",
    "        raise ValueError(\"Result has more than one member\",l)\n",
    "    if len(l)==0:\n",
    "        raise IndexError(\"Cannot get first member from empty container\",l)\n",
    "    return l[0]"
   ]
  },
  {
   "cell_type": "code",
   "execution_count": 5,
   "metadata": {
    "collapsed": false
   },
   "outputs": [
    {
     "data": {
      "text/plain": [
       "rdflib.term.BNode('ub1bL2C1')"
      ]
     },
     "execution_count": 5,
     "metadata": {},
     "output_type": "execute_result"
    },
    {
     "name": "stdout",
     "output_type": "stream",
     "text": [
      "time: 9.5 ms\n"
     ]
    }
   ],
   "source": [
    "lhs=one(sequence[:RDF.type:RDF.Seq])\n",
    "lhs"
   ]
  },
  {
   "cell_type": "code",
   "execution_count": 6,
   "metadata": {
    "collapsed": false
   },
   "outputs": [
    {
     "name": "stdout",
     "output_type": "stream",
     "text": [
      "time: 5.51 ms\n"
     ]
    }
   ],
   "source": [
    "endpoint=LocalEndpoint(sequence)"
   ]
  },
  {
   "cell_type": "code",
   "execution_count": 7,
   "metadata": {
    "collapsed": false
   },
   "outputs": [
    {
     "name": "stdout",
     "output_type": "stream",
     "text": [
      "time: 1.85 s\n"
     ]
    }
   ],
   "source": [
    "endpoint.decollect(lhs)"
   ]
  },
  {
   "cell_type": "code",
   "execution_count": 8,
   "metadata": {
    "collapsed": false
   },
   "outputs": [
    {
     "ename": "TypeError",
     "evalue": "object of type 'NoneType' has no len()",
     "output_type": "error",
     "traceback": [
      "\u001b[0;31m---------------------------------------------------------------------------\u001b[0m",
      "\u001b[0;31mTypeError\u001b[0m                                 Traceback (most recent call last)",
      "\u001b[0;32m<ipython-input-8-a6ab8c268117>\u001b[0m in \u001b[0;36m<module>\u001b[0;34m()\u001b[0m\n\u001b[0;32m----> 1\u001b[0;31m \u001b[0mlen\u001b[0m\u001b[1;33m(\u001b[0m\u001b[0mendpoint\u001b[0m\u001b[1;33m.\u001b[0m\u001b[0mdecollect\u001b[0m\u001b[1;33m(\u001b[0m\u001b[0mlhs\u001b[0m\u001b[1;33m)\u001b[0m\u001b[1;33m)\u001b[0m\u001b[1;33m\u001b[0m\u001b[0m\n\u001b[0m",
      "\u001b[0;31mTypeError\u001b[0m: object of type 'NoneType' has no len()"
     ]
    },
    {
     "name": "stdout",
     "output_type": "stream",
     "text": [
      "time: 222 ms\n"
     ]
    }
   ],
   "source": [
    "len(endpoint.decollect(lhs))"
   ]
  },
  {
   "cell_type": "code",
   "execution_count": null,
   "metadata": {
    "collapsed": false
   },
   "outputs": [],
   "source": [
    "endpoint.select('''\n",
    "    SELECT (COUNT(*) AS ?cnt) {\n",
    "        ?s ?p ?o .\n",
    "    }\n",
    "''')"
   ]
  },
  {
   "cell_type": "code",
   "execution_count": null,
   "metadata": {
    "collapsed": false
   },
   "outputs": [],
   "source": [
    "endpoint.select('''\n",
    "    SELECT (COUNT(*) AS ?cnt) {\n",
    "        ?s ?p ?o .\n",
    "        MINUS {?s a ?o}\n",
    "    }\n",
    "''')"
   ]
  },
  {
   "cell_type": "code",
   "execution_count": null,
   "metadata": {
    "collapsed": false
   },
   "outputs": [],
   "source": [
    "endpoint.select('''\n",
    "    SELECT (COUNT(*) AS ?cnt) {\n",
    "        ?s ?p ?o .\n",
    "        FILTER(STRSTARTS(STR(?p),\"http://www.w3.org/1999/02/22-rdf-syntax-ns#_\"))\n",
    "    } \n",
    "''')"
   ]
  },
  {
   "cell_type": "code",
   "execution_count": null,
   "metadata": {
    "collapsed": false
   },
   "outputs": [],
   "source": [
    "duo=LocalEndpoint(model(r\"\"\"\n",
    "@prefix : <http://example.com/> .\n",
    "@prefix rdf: <http://www.w3.org/1999/02/22-rdf-syntax-ns#> .\n",
    "\n",
    ":simple a rdf:Seq ;\n",
    "    rdf:_1 \"uno\" ;\n",
    "    rdf:_2 \"dos\" ;\n",
    "    rdf:_3 3 ;\n",
    "    rdf:_4 <http://dbpedia.org/resource/4> .\n",
    "\n",
    ":complex a rdf:Seq ;\n",
    "    rdf:_1 [\n",
    "        a rdf:Seq ;\n",
    "            rdf:_1 33 ;\n",
    "            rdf:_2 91 ;\n",
    "            rdf:_3 15 \n",
    "        ] ;\n",
    "    rdf:_2 [\n",
    "        a rdf:Seq ;\n",
    "            rdf:_1 541 ;\n",
    "            rdf:_2 97 \n",
    "        ].    \n",
    "\n",
    "\"\"\"))"
   ]
  },
  {
   "cell_type": "code",
   "execution_count": null,
   "metadata": {
    "collapsed": false
   },
   "outputs": [],
   "source": [
    "duo.select(\"\"\"\n",
    "    SELECT ?s (COUNT(*) AS ?cnt) {\n",
    "        ?s ?p ?o .\n",
    "        FILTER(STRSTARTS(STR(?p),\"http://www.w3.org/1999/02/22-rdf-syntax-ns#_\"))\n",
    "    } GROUP BY ?s\n",
    "\"\"\")"
   ]
  },
  {
   "cell_type": "code",
   "execution_count": null,
   "metadata": {
    "collapsed": false
   },
   "outputs": [],
   "source": [
    "duo.decollect(URIRef(\"http://example.com/simple\"))"
   ]
  },
  {
   "cell_type": "markdown",
   "metadata": {},
   "source": [
    "# Counting to Eleven"
   ]
  },
  {
   "cell_type": "code",
   "execution_count": null,
   "metadata": {
    "collapsed": false
   },
   "outputs": [],
   "source": [
    "sequence_11=LocalEndpoint(model(r\"\"\"\n",
    "@prefix rdf: <http://www.w3.org/1999/02/22-rdf-syntax-ns#> .\n",
    "<http://example.com/s11> a rdf:Seq ;\n",
    "    rdf:_1 \"one\" ;\n",
    "    rdf:_2 \"two\" ;\n",
    "    rdf:_3 \"three\" ;\n",
    "    rdf:_4 \"four\" ;\n",
    "    rdf:_5 \"five\" ;\n",
    "    rdf:_6 \"six\" ;\n",
    "    rdf:_7 \"seven\" ;\n",
    "    rdf:_8 \"eight\" ;\n",
    "    rdf:_9 \"nine\" ;\n",
    "    rdf:_10 \"ten\" ;\n",
    "    rdf:_11 \"eleven\" .\n",
    "\"\"\"))"
   ]
  },
  {
   "cell_type": "code",
   "execution_count": null,
   "metadata": {
    "collapsed": false
   },
   "outputs": [],
   "source": [
    "goes_to_eleven=sequence_11.decollect(URIRef(\"http://example.com/s11\"))\n",
    "goes_to_eleven"
   ]
  },
  {
   "cell_type": "code",
   "execution_count": null,
   "metadata": {
    "collapsed": false
   },
   "outputs": [],
   "source": [
    "assert goes_to_eleven[0]==\"one\"\n",
    "assert goes_to_eleven[10]==\"eleven\"\n",
    "assert len(goes_to_eleven)"
   ]
  },
  {
   "cell_type": "code",
   "execution_count": null,
   "metadata": {
    "collapsed": true
   },
   "outputs": [],
   "source": []
  }
 ],
 "metadata": {
  "kernelspec": {
   "display_name": "Python 3",
   "language": "python",
   "name": "python3"
  },
  "language_info": {
   "codemirror_mode": {
    "name": "ipython",
    "version": 3
   },
   "file_extension": ".py",
   "mimetype": "text/x-python",
   "name": "python",
   "nbconvert_exporter": "python",
   "pygments_lexer": "ipython3",
   "version": "3.6.0"
  }
 },
 "nbformat": 4,
 "nbformat_minor": 2
}
